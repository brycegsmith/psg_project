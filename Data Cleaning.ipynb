{
 "cells": [
  {
   "cell_type": "code",
   "execution_count": null,
   "metadata": {},
   "outputs": [],
   "source": [
    "# ONLY NEED TO RUN THIS SECTION ONCE\n",
    "\n",
    "import numpy as np\n",
    "import pandas as pd\n",
    "import re\n",
    "import datetime\n",
    "import mne\n",
    "\n",
    "gender_age = pd.read_excel('gender-age.xlsx', header=None)"
   ]
  },
  {
   "cell_type": "code",
   "execution_count": null,
   "metadata": {},
   "outputs": [],
   "source": [
    "# ALL INPUTS THAT NEED TO BE CHANGED ARE HERE\n",
    "\n",
    "# Change Individual - Make sure to download the corresponding txt and edf files and move them to same folder as this script\n",
    "individual = 'n3'\n",
    "\n",
    "# Data Previews: https://archive.physionet.org/cgi-bin/atm/ATM\n",
    "# Set Input:\n",
    "#    Set Database to CAP Sleep Database (capslpdb)\n",
    "#    Set Record to the Correct Individual\n",
    "# Set Toolbox to \"Export Signals as CSV\"\n",
    "# You should be able to see the start time of the study.\n",
    "\n",
    "# Copy the start time parameters below:\n",
    "\n",
    "study_start_year = 2009\n",
    "study_start_month = 1\n",
    "study_start_day = 1\n",
    "study_start_hour = 22\n",
    "study_start_min = 15\n",
    "study_start_second = 42"
   ]
  },
  {
   "cell_type": "code",
   "execution_count": null,
   "metadata": {},
   "outputs": [],
   "source": [
    "# PART 1 - RUN AFTER CHANGING INPUTS\n",
    "\n",
    "# Defines gender, age, and condition for the individual:\n",
    "gender = list(gender_age[gender_age[0] == individual.upper()][1])[0]\n",
    "age = list(gender_age[gender_age[0] == individual.upper()][2])[0]\n",
    "condition_code = re.search(r'\\D+', individual).group()\n",
    "conditions = {'n':'Normal', 'nfle':'Nocturnal Frontal Lobe Epilepsy', 'ins':'Insomnia', 'plm':'Periodic Leg Movement',\n",
    "             'rbd':'REM Behavior Disorder'}\n",
    "condition = conditions[condition_code]\n",
    "\n",
    "# Reads txt file and filters to just sleep stages:\n",
    "df2=pd.read_csv(individual+'.txt')[17:]\n",
    "df2=df2.iloc[:,0].str.split('\\t', expand=True)\n",
    "df2.columns=[x for x in df2.iloc[0]]\n",
    "df2=df2.iloc[1:]\n",
    "primary_loc = df2.groupby('Location').count()['Event'].sort_values(ascending=False).index[0]\n",
    "df2=df2[df2['Location'] == primary_loc]\n",
    "\n",
    "# Calculates number of waveform measurements between study start time and first txt timestamp:\n",
    "timestamp_comps = df2['Time [hh:mm:ss]'].iloc[0].split(\":\")\n",
    "first_recording_day = study_start_day + 1 if int(timestamp_comps[0]) < study_start_hour else study_start_day\n",
    "first_timestamp = datetime.datetime(study_start_year, study_start_month, first_recording_day,\n",
    "                                    int(timestamp_comps[0]), int(timestamp_comps[1]), int(timestamp_comps[2]))\n",
    "study_start = datetime.datetime(study_start_year, study_start_month, study_start_day, study_start_hour, study_start_min, study_start_second)\n",
    "lag = 500*(first_timestamp - study_start).seconds\n",
    "\n",
    "# Adds epochs and features:\n",
    "df2['epoch']=[i for i in range(0,len(df2.iloc[:,0]))]\n",
    "df2['condition'] = [condition for i in range(0, len(df2.iloc[:,0]))]\n",
    "df2['gender'] = [gender for i in range(0, len(df2.iloc[:,0]))]\n",
    "df2['age'] = [age for i in range(0, len(df2.iloc[:,0]))]\n",
    "df2=df2[['epoch', 'Sleep Stage', 'condition', 'gender', 'age']]\n",
    "\n",
    "df2"
   ]
  },
  {
   "cell_type": "code",
   "execution_count": null,
   "metadata": {},
   "outputs": [],
   "source": [
    "# PART 2 - RUN AFTER PART 1\n",
    "\n",
    "# Reads edf data\n",
    "edf = mne.io.read_raw_edf(individual + '.edf') \n",
    "F = edf.get_data(start = lag)\n",
    "\n",
    "# Defines list of signals in edf\n",
    "signal = edf.ch_names\n",
    "signal = ['DX1-DX2' if x == 'Dx1-DX2' else x for x in signal]\n",
    "signal = ['SAO2' if x == 'SpO2' else x for x in signal]\n",
    "signal = ['Fp2-F4' if x == 'F2-F4' else x for x in signal]\n",
    "\n",
    "# Adds epochs and defines column names based on signals\n",
    "D = F.transpose()\n",
    "df = pd.DataFrame(D)\n",
    "df.columns= signal\n",
    "df['elapsed_seconds'] = [0.002*i for i in range(0, len(df.iloc[:,0]))]\n",
    "df['epoch'] = df['elapsed_seconds'] // 30\n",
    "df=df[['epoch','Fp2-F4', 'F4-C4', 'C4-P4', 'P4-O2','C4-A1','ROC-LOC','EMG1-EMG2','ECG1-ECG2','DX1-DX2','SX1-SX2', 'SAO2']]\n",
    "\n",
    "df"
   ]
  },
  {
   "cell_type": "code",
   "execution_count": null,
   "metadata": {},
   "outputs": [],
   "source": [
    "# Run this after feature extraction\n",
    "\n",
    "final = pd.merge(df2, df, how='left', on='epoch')\n",
    "final"
   ]
  }
 ],
 "metadata": {
  "kernelspec": {
   "display_name": "Python 3",
   "language": "python",
   "name": "python3"
  },
  "language_info": {
   "codemirror_mode": {
    "name": "ipython",
    "version": 3
   },
   "file_extension": ".py",
   "mimetype": "text/x-python",
   "name": "python",
   "nbconvert_exporter": "python",
   "pygments_lexer": "ipython3",
   "version": "3.8.5"
  }
 },
 "nbformat": 4,
 "nbformat_minor": 4
}
